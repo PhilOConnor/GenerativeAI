{
 "cells": [
  {
   "cell_type": "markdown",
   "id": "a2600700-a6ff-4632-9c73-c33b1500a2fa",
   "metadata": {},
   "source": [
    "# Chapter 3 Autencoder\n",
    "\n"
   ]
  },
  {
   "cell_type": "code",
   "execution_count": 23,
   "id": "ff29c0ec-7db1-45f7-8ae0-e1ae9f15b539",
   "metadata": {
    "tags": []
   },
   "outputs": [],
   "source": [
    "import numpy as np\n",
    "\n",
    "from tensorflow.keras import datasets\n",
    "from tensorflow.keras import  layers, models, datasets, callbacks\n",
    "import tensorflow.keras.backend as K"
   ]
  },
  {
   "cell_type": "code",
   "execution_count": 2,
   "id": "1ccef5b6-a3d7-4720-b226-27e73bd90f1d",
   "metadata": {},
   "outputs": [],
   "source": [
    "(x_train, y_train), (x_test, y_test) = datasets.fashion_mnist.load_data()"
   ]
  },
  {
   "cell_type": "code",
   "execution_count": 39,
   "id": "13f349a8-6279-4ad5-a3a1-d44243b2752d",
   "metadata": {
    "tags": []
   },
   "outputs": [],
   "source": [
    "def preprocess(imgs):\n",
    "    imgs = imgs.astype(\"float32\")/255.0 # convert to 0-1 values\n",
    "    imgs = np.pad(imgs, ((0, 0), (2, 2),(2, 2)), constant_values=0.0) # pad to 32 by 32\n",
    "    imgs = np.expand_dims(imgs, -1)\n",
    "    return imgs\n",
    "\n",
    "x_train = preprocess(x_train)\n",
    "x_test = preprocess(x_test)"
   ]
  },
  {
   "cell_type": "code",
   "execution_count": 34,
   "id": "1f322eb4-babc-48fb-b4c8-029c706542cc",
   "metadata": {
    "tags": []
   },
   "outputs": [],
   "source": [
    "# Build encoder\n",
    "\n",
    "encoder_input = layers.Input(shape=(32,32,1), name=\"encoder_input\")\n",
    "\n",
    "# start creating conv encoder\n",
    "x = layers.Conv2D(32, (3,3), strides=2, activation=\"relu\", padding=\"same\")(encoder_input)\n",
    "x = layers.Conv2D(64, (3,3), strides=2, activation=\"relu\", padding=\"same\")(x) # 64 filters\n",
    "x = layers.Conv2D(128, (3,3), strides=2, activation=\"relu\", padding=\"same\")(x)# 128 filters\n",
    "\n",
    "shape_before_flattening = K.int_shape(x)[1:]\n",
    "\n",
    "x = layers.Flatten()(x)\n",
    "encoder_output = layers.Dense(2, name=\"encoder_output\")(x)\n",
    "\n",
    "encoder = models.Model(encoder_input, encoder_output)"
   ]
  },
  {
   "cell_type": "code",
   "execution_count": 35,
   "id": "5f73970c-a677-43ee-a33a-8a0d921fbefb",
   "metadata": {
    "tags": []
   },
   "outputs": [],
   "source": [
    "# Build decoder\n",
    "\n",
    "\n",
    "decoder_input = layers.Input(shape=(2, ), name=\"decoder_input\")\n",
    "\n",
    "# start creating conv encoder\n",
    "x = layers.Dense(np.prod(shape_before_flattening))(decoder_input) # Connect to dense layer from encoder\n",
    "x = layers.Reshape(shape_before_flattening)(x) # Reshape the dense input to match the shape of the encoder just before its own dense layer\n",
    "\n",
    "x = layers.Conv2DTranspose(128, (3,3), strides=2, activation=\"relu\", padding=\"same\")(x)  # Stack the conv2D transpose layers on top of each other \n",
    "x = layers.Conv2DTranspose(64, (3,3), strides=2, activation=\"relu\", padding=\"same\")(x) \n",
    "x = layers.Conv2DTranspose(32, (3,3), strides=2, activation=\"relu\", padding=\"same\")(x) \n",
    "\n",
    "decoder_output = layers.Conv2D(1, (3, 3), strides=1, activation=\"sigmoid\", padding=\"same\", name=\"decoder_output\")(x)\n",
    "decoder = models.Model(decoder_input, decoder_output)"
   ]
  },
  {
   "cell_type": "code",
   "execution_count": 36,
   "id": "ee973681-384b-4d83-a66a-c7ab0924cc3b",
   "metadata": {
    "tags": []
   },
   "outputs": [],
   "source": [
    "autoencoder = models.Model(encoder_input, decoder(encoder_output))"
   ]
  },
  {
   "cell_type": "code",
   "execution_count": 41,
   "id": "4dfb2c7b-3e43-4acf-95cb-55ec9c50de1a",
   "metadata": {
    "tags": []
   },
   "outputs": [],
   "source": [
    "autoencoder.compile(optimizer=\"adam\", loss=\"binary_crossentropy\")"
   ]
  },
  {
   "cell_type": "code",
   "execution_count": null,
   "id": "30b42b66-f5c2-417d-982e-ff22359b0a1e",
   "metadata": {
    "tags": []
   },
   "outputs": [
    {
     "name": "stdout",
     "output_type": "stream",
     "text": [
      "Epoch 1/10\n",
      "600/600 [==============================] - 87s 143ms/step - loss: 0.2912 - val_loss: 0.2610\n",
      "Epoch 2/10\n",
      "600/600 [==============================] - 88s 147ms/step - loss: 0.2562 - val_loss: 0.2561\n",
      "Epoch 3/10\n",
      "600/600 [==============================] - 89s 149ms/step - loss: 0.2530 - val_loss: 0.2536\n",
      "Epoch 4/10\n",
      "600/600 [==============================] - 92s 153ms/step - loss: 0.2511 - val_loss: 0.2521\n",
      "Epoch 5/10\n",
      "600/600 [==============================] - 92s 154ms/step - loss: 0.2500 - val_loss: 0.2514\n",
      "Epoch 6/10\n",
      "121/600 [=====>........................] - ETA: 1:09 - loss: 0.2491"
     ]
    }
   ],
   "source": [
    "autoencoder.fit(x_train,\n",
    "                x_train, \n",
    "                epochs=10, \n",
    "                batch_size=100, \n",
    "                shuffle=True, \n",
    "                validation_data = (x_test, x_test)\n",
    "               )"
   ]
  },
  {
   "cell_type": "code",
   "execution_count": null,
   "id": "bce89011-0776-4c22-91ab-d96e6c875e34",
   "metadata": {},
   "outputs": [],
   "source": []
  }
 ],
 "metadata": {
  "kernelspec": {
   "display_name": "genAI",
   "language": "python",
   "name": "genai"
  },
  "language_info": {
   "codemirror_mode": {
    "name": "ipython",
    "version": 3
   },
   "file_extension": ".py",
   "mimetype": "text/x-python",
   "name": "python",
   "nbconvert_exporter": "python",
   "pygments_lexer": "ipython3",
   "version": "3.10.12"
  }
 },
 "nbformat": 4,
 "nbformat_minor": 5
}
